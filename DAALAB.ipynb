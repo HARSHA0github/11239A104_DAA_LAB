{
  "nbformat": 4,
  "nbformat_minor": 0,
  "metadata": {
    "colab": {
      "provenance": [],
      "authorship_tag": "ABX9TyP+C+HqjGazwUQ+DYdi4JCX",
      "include_colab_link": true
    },
    "kernelspec": {
      "name": "python3",
      "display_name": "Python 3"
    },
    "language_info": {
      "name": "python"
    }
  },
  "cells": [
    {
      "cell_type": "markdown",
      "metadata": {
        "id": "view-in-github",
        "colab_type": "text"
      },
      "source": [
        "<a href=\"https://colab.research.google.com/github/HARSHA0github/11239A104_DAA_LAB/blob/main/DAALAB.ipynb\" target=\"_parent\"><img src=\"https://colab.research.google.com/assets/colab-badge.svg\" alt=\"Open In Colab\"/></a>"
      ]
    },
    {
      "cell_type": "markdown",
      "source": [
        "**travelling salesman problem**"
      ],
      "metadata": {
        "id": "mSIKnipo5F-V"
      }
    },
    {
      "cell_type": "code",
      "source": [
        "import itertools\n",
        "\n",
        "# Function to calculate the total distance of a given route\n",
        "def calculate_distance(route, distance_matrix):\n",
        "    total_distance = 0\n",
        "    for i in range(len(route) - 1):\n",
        "        total_distance += distance_matrix[route[i]][route[i+1]]\n",
        "    # Add distance to return to the starting point\n",
        "    total_distance += distance_matrix[route[-1]][route[0]]\n",
        "    return total_distance\n",
        "\n",
        "# Function to solve the TSP using brute-force\n",
        "def traveling_salesman_bruteforce(distance_matrix):\n",
        "    n = len(distance_matrix)\n",
        "    cities = list(range(n))\n",
        "    shortest_route = NoneTraveling Salesman Problem (TSP\n",
        "    shortest_distance = float('inf')\n",
        "\n",
        "    # Generate all possible permutations of the cities\n",
        "    all_routes = itertools.permutations(cities)\n",
        "\n",
        "    # Check each route and find the shortest one\n",
        "    for route in all_routes:\n",
        "        current_distance = calculate_distance(route, distance_matrix)\n",
        "        if current_distance < shortest_distance:\n",
        "            shortest_distance = current_distance\n",
        "            shortest_route = route\n",
        "\n",
        "    return shortest_route, shortest_distance\n",
        "\n",
        "# Example usage\n",
        "if __name__ == \"__main__\":Traveling Salesman Problem (TSP\n",
        "    distance_matrix = [\n",
        "        [0, 10, 15, 20],\n",
        "        [10, 0, 35, 25],\n",
        "        [15, 35, 0, 30],\n",
        "        [20, 25, 30, 0]\n",
        "    ]\n",
        "\n",
        "    route, distance = traveling_salesman_bruteforce(distance_matrix)\n",
        "    print(\"Shortest route:\", route)\n",
        "    print(\"Shortest distance:\", distance)\n"
      ],
      "metadata": {
        "colab": {
          "base_uri": "https://localhost:8080/"
        },
        "id": "ctK5NmYL5Ui5",
        "outputId": "92058232-be06-47be-eb7f-d290585b73bc"
      },
      "execution_count": null,
      "outputs": [
        {
          "output_type": "stream",
          "name": "stdout",
          "text": [
            "Shortest route: (0, 1, 3, 2)\n",
            "Shortest distance: 80\n"
          ]
        }
      ]
    },
    {
      "cell_type": "code",
      "source": [
        "import itertools\n",
        "\n",
        "# Function to calculate the total distance of a given route\n",
        "def calculate_distance(route, distance_matrix):\n",
        "    total_distance = 0\n",
        "    for i in range(len(route) - 1):\n",
        "        total_distance += distance_matrix[route[i]][route[i+1]]Traveling Salesman Problem (TSP\n",
        "    # Add distance to return to the starting point\n",
        "    total_distance += distance_matrix[route[-1]][route[0]]\n",
        "    return total_distance\n",
        "\n",
        "# Function to solve the TSP using brute-force\n",
        "def traveling_salesman_bruteforce(distance_matrix):\n",
        "    n = len(distance_matrix)\n",
        "    cities = list(range(n))\n",
        "    shortest_route = None\n",
        "    shortest_distance = float('inf')\n",
        "\n",
        "    # Generate all possible permutations of the cities\n",
        "    all_routes = itertools.permutations(cities)\n",
        "\n",
        "    # Check each route and find the shortest one\n",
        "    for route in all_routes:\n",
        "        current_distance = calculate_distance(route, distance_matrix)\n",
        "        if current_distance < shortest_distance:\n",
        "            shortest_distance = current_distance\n",
        "            shortest_route = route\n",
        "\n",
        "    return shortest_route, shortest_distance\n",
        "\n",
        "# Function to print the distance matrix in tabular form\n",
        "def print_distance_table(distance_matrix):\n",
        "    n = len(distance_matrix)\n",
        "    print(\"Distance Matrix (Distances from each city to all other cities):\")\n",
        "    print(\"      \", end=\"\")\n",
        "    for i in range(n):\n",
        "        print(f\"City {i}\", end=\"  \")\n",
        "    print()\n",
        "\n",
        "    for i in range(n):\n",
        "        print(f\"City {i}:\", end=\" \")\n",
        "        for j in range(n):\n",
        "            print(f\"{distance_matrix[i][j]:4}\", end=\"  \")\n",
        "        print()\n",
        "\n",
        "# Example usage\n",
        "if __name__ == \"__main__\":\n",
        "    # Distance matrix (Example: 4 cities with random distances)\n",
        "    distance_matrix = [\n",
        "        [0, 10, 15, 20],\n",
        "        [10, 0, 35, 25],\n",
        "        [15, 35, 0, 30],\n",
        "        [20, 25, 30, 0]\n",
        "    ]\n",
        "\n",
        "    # Printing the distance table\n",
        "    print_distance_table(distance_matrix)\n",
        "\n",
        "    # Find the shortest route using brute-force\n",
        "    route, distance = traveling_salesman_bruteforce(distance_matrix)\n",
        "    print(\"\\nShortest route:\", route)\n",
        "    print(\"Shortest distance:\", distance)\n",
        "\n"
      ],
      "metadata": {
        "colab": {
          "base_uri": "https://localhost:8080/"
        },
        "id": "o28RjxbJ_GPj",
        "outputId": "d570bb64-d65b-4ff1-9e49-67368658b858"
      },
      "execution_count": null,
      "outputs": [
        {
          "output_type": "stream",
          "name": "stdout",
          "text": [
            "Distance Matrix (Distances from each city to all other cities):\n",
            "      City 0  City 1  City 2  City 3  \n",
            "City 0:    0    10    15    20  \n",
            "City 1:   10     0    35    25  \n",
            "City 2:   15    35     0    30  \n",
            "City 3:   20    25    30     0  \n",
            "\n",
            "Shortest route: (0, 1, 3, 2)\n",
            "Shortest distance: 80\n"
          ]
        }
      ]
    },
    {
      "cell_type": "markdown",
      "source": [
        "**dijitra algorithm**"
      ],
      "metadata": {
        "id": "YrcwnaxfArA4"
      }
    },
    {
      "cell_type": "code",
      "source": [
        "# Python program for Dijkstra's single\n",
        "# source shortest path algorithm.\n",
        "import sys\n",
        "\n",
        "\n",
        "class Graph():\n",
        "\n",
        "    def __init__(self, vertices):\n",
        "        self.V = vertices\n",
        "        self.graph = [[0 for column in range(vertices)]\n",
        "                      for row in range(vertices)]\n",
        "\n",
        "    def printSolution(self, dist):\n",
        "        print(\"Vertex \\tDistance from Source\")\n",
        "        for node in range(self.V):\n",
        "            print (node, \"   \\t\", dist[node])\n",
        "\n",
        "    # A utility function to find the vertex with\n",
        "    # minimum distance value, from the set of vertices\n",
        "    # not yet included in shortest path tree\n",
        "    def minDistance(self, dist, sptSet):\n",
        "\n",
        "        # Initialize minimum distance for next node\n",
        "        min = sys.maxsize\n",
        "\n",
        "        # Search not nearest vertex not in the\n",
        "        # shortest path tree\n",
        "        for u in range(self.V):\n",
        "            if dist[u] < min and sptSet[u] == False:\n",
        "                min = dist[u]\n",
        "                min_index = u\n",
        "\n",
        "        return min_index\n",
        "\n",
        "    # Function that implements Dijkstra's single source\n",
        "    # shortest path algorithm for a graph represented\n",
        "    # using adjacency matrix representation\n",
        "    def dijkstra(self, src):\n",
        "\n",
        "        dist = [sys.maxsize] * self.V\n",
        "        dist[src] = 0\n",
        "        sptSet = [False] * self.V\n",
        "\n",
        "        for cout in range(self.V):\n",
        "\n",
        "            # Pick the minimum distance vertex from\n",
        "            # the set of vertices not yet processed.\n",
        "            # x is always equal to src in first iteration\n",
        "            x = self.minDistance(dist, sptSet)\n",
        "\n",
        "            # Put the minimum distance vertex in the\n",
        "            # shortest path tree\n",
        "            sptSet[x] = True\n",
        "\n",
        "            # Update dist value of the adjacent vertices\n",
        "            # of the picked vertex only if the current\n",
        "            # distance is greater than new distance and\n",
        "            # the vertex in not in the shortest path tree\n",
        "            for y in range(self.V):\n",
        "                if self.graph[x][y] > 0 and sptSet[y] == False and \\\n",
        "                        dist[y] > dist[x] + self.graph[x][y]:\n",
        "                    dist[y] = dist[x] + self.graph[x][y]\n",
        "\n",
        "        self.printSolution(dist)\n",
        "\n",
        "\n",
        "# Driver's code\n",
        "if __name__ == \"__main__\":\n",
        "    g = Graph(9)\n",
        "    g.graph = [[0, 4, 0, 0, 0, 0, 0, 8, 0],\n",
        "               [4, 0, 8, 0, 0, 0, 0, 11, 0],\n",
        "               [0, 8, 0, 7, 0, 4, 0, 0, 2],\n",
        "               [0, 0, 7, 0, 9, 14, 0, 0, 0],\n",
        "               [0, 0, 0, 9, 0, 10, 0, 0, 0],\n",
        "               [0, 0, 4, 14, 10, 0, 2, 0, 0],\n",
        "               [0, 0, 0, 0, 0, 2, 0, 1, 6],\n",
        "               [8, 11, 0, 0, 0, 0, 1, 0, 7],\n",
        "               [0, 0, 2, 0, 0, 0, 6, 7, 0]\n",
        "               ]\n",
        "\n",
        "    g.dijkstra(0)\n",
        "\n"
      ],
      "metadata": {
        "colab": {
          "base_uri": "https://localhost:8080/"
        },
        "id": "DMAfkMchAxMY",
        "outputId": "15d4596f-550c-4363-c12c-ba4ec5649c80"
      },
      "execution_count": null,
      "outputs": [
        {
          "output_type": "stream",
          "name": "stdout",
          "text": [
            "Vertex \tDistance from Source\n",
            "0    \t 0\n",
            "1    \t 4\n",
            "2    \t 12\n",
            "3    \t 19\n",
            "4    \t 21\n",
            "5    \t 11\n",
            "6    \t 9\n",
            "7    \t 8\n",
            "8    \t 14\n"
          ]
        }
      ]
    },
    {
      "cell_type": "markdown",
      "source": [
        "**floyd Warshalls Algorithm**\n",
        "\n",
        "\n",
        "\n",
        "\n",
        "\n"
      ],
      "metadata": {
        "id": "CqrIZYfy9Exl"
      }
    },
    {
      "cell_type": "code",
      "source": [
        "# Floyd-Warshall Algorithm to find the shortest path between all pairs of nodes\n",
        "INF = float('inf')\n",
        "\n",
        "def floyd_warshall(graph):\n",
        "    # Copy the graph to a distance matrix\n",
        "    dist = [row[:] for row in graph]\n",
        "\n",
        "    # Number of vertices in the graph\n",
        "    n = len(graph)\n",
        "\n",
        "    # Apply Floyd-Warshall Algorithm\n",
        "    for k in range(n):\n",
        "        for i in range(n):\n",
        "            for j in range(n):\n",
        "                if dist[i][j] > dist[i][k] + dist[k][j]:\n",
        "                    dist[i][j] = dist[i][k] + dist[k][j]\n",
        "\n",
        "    return dist\n",
        "\n",
        "def print_matrix(matrix):\n",
        "    for row in matrix:\n",
        "        print(\"\\t\".join(str(cell) if cell != INF else \"0\" for cell in row))  # Replacing INF with 0\n",
        "\n",
        "# Example Usage:\n",
        "if __name__ == \"__main__\":\n",
        "    # Graph represented as an adjacency matrix\n",
        "    # INF represents no path between nodes\n",
        "    graph = [\n",
        "        [0, 3, INF, INF, INF, INF],  # Node 0\n",
        "        [2, 0, INF, INF, INF, INF],  # Node 1\n",
        "        [INF, 7, 0, 1, INF, 2],      # Node 2\n",
        "        [INF, INF, INF, 0, 4, INF],  # Node 3\n",
        "        [INF, INF, 3, INF, 0, 5],    # Node 4\n",
        "        [INF, INF, INF, INF, INF, 0] # Node 5\n",
        "    ]\n",
        "\n",
        "    print(\"Shortest distance matrix using Floyd-Warshall algorithm:\")\n",
        "    shortest_paths = floyd_warshall(graph)\n",
        "    print_matrix(shortest_paths)\n"
      ],
      "metadata": {
        "colab": {
          "base_uri": "https://localhost:8080/"
        },
        "id": "xEdbdBl4E_cY",
        "outputId": "ed38324a-1ad3-4a87-937c-d07a5e11762a"
      },
      "execution_count": null,
      "outputs": [
        {
          "output_type": "stream",
          "name": "stdout",
          "text": [
            "Shortest distance matrix using Floyd-Warshall algorithm:\n",
            "0\t3\t0\t0\t0\t0\n",
            "2\t0\t0\t0\t0\t0\n",
            "9\t7\t0\t1\t5\t2\n",
            "16\t14\t7\t0\t4\t9\n",
            "12\t10\t3\t4\t0\t5\n",
            "0\t0\t0\t0\t0\t0\n"
          ]
        }
      ]
    },
    {
      "cell_type": "markdown",
      "source": [
        "**Prims algorithm**"
      ],
      "metadata": {
        "id": "NAZGX-lmEf0V"
      }
    },
    {
      "cell_type": "code",
      "source": [
        "import sys\n",
        "\n",
        "class Graph():\n",
        "    def __init__(self, vertices):\n",
        "        self.V = vertices\n",
        "        self.graph = [[0 for column in range(vertices)] for row in range(vertices)]\n",
        "\n",
        "    # A utility function to print the constructed MST stored in parent[]\n",
        "    def printMST(self, parent):\n",
        "        total_weight = 0\n",
        "        print(\"Edge \\tWeight\")\n",
        "        for i in range(1, self.V):\n",
        "            print(parent[i], \"-\", i, \"\\t\", self.graph[parent[i]][i])\n",
        "            total_weight += self.graph[parent[i]][i]\n",
        "        print(\"Total weight of MST:\", total_weight)\n",
        "\n",
        "    # A utility function to find the vertex with minimum key value\n",
        "    def minKey(self, key, mstSet):\n",
        "        min = sys.maxsize\n",
        "        min_index = -1\n",
        "\n",
        "        for v in range(self.V):\n",
        "            if key[v] < min and not mstSet[v]:\n",
        "                min = key[v]\n",
        "                min_index = v\n",
        "\n",
        "        return min_index\n",
        "\n",
        "    # Function to construct and print MST for a graph\n",
        "    def primMST(self):\n",
        "        key = [sys.maxsize] * self.V\n",
        "        parent = [None] * self.V  # Array to store constructed MST\n",
        "        key[0] = 0\n",
        "        mstSet = [False] * self.V\n",
        "        parent[0] = -1  # First node is always the root of MST\n",
        "\n",
        "        for _ in range(self.V):\n",
        "            u = self.minKey(key, mstSet)\n",
        "            mstSet[u] = True\n",
        "\n",
        "            for v in range(self.V):\n",
        "                if 0 < self.graph[u][v] < key[v] and not mstSet[v]:\n",
        "                    key[v] = self.graph[u][v]\n",
        "                    parent[v] = u\n",
        "\n",
        "        self.printMST(parent)\n",
        "\n",
        "# Driver's code\n",
        "if __name__ == '__main__':\n",
        "    g = Graph(5)\n",
        "    g.graph = [[0, 2, 0, 6, 0],\n",
        "               [2, 0, 3, 8, 5],\n",
        "               [0, 3, 0, 0, 7],\n",
        "               [6, 8, 0, 0, 9],\n",
        "               [0, 5, 7, 9, 0]]\n",
        "\n",
        "    g.primMST()\n"
      ],
      "metadata": {
        "colab": {
          "base_uri": "https://localhost:8080/"
        },
        "id": "B_nWJVr0Eog2",
        "outputId": "aa15d611-f499-4084-9506-d9f9e6de0aaf"
      },
      "execution_count": null,
      "outputs": [
        {
          "output_type": "stream",
          "name": "stdout",
          "text": [
            "Edge \tWeight\n",
            "0 - 1 \t 2\n",
            "1 - 2 \t 3\n",
            "0 - 3 \t 6\n",
            "1 - 4 \t 5\n",
            "Total weight of MST: 16\n"
          ]
        }
      ]
    },
    {
      "cell_type": "markdown",
      "source": [
        "**kruskals algorithm**"
      ],
      "metadata": {
        "id": "WImGguL_ahBH"
      }
    },
    {
      "cell_type": "code",
      "source": [
        "from functools import cmp_to_key\n",
        "\n",
        "class DSU:\n",
        "    def __init__(self, n):\n",
        "        self.parent = list(range(n))\n",
        "        self.rank = [1] * n\n",
        "\n",
        "    def find(self, i):\n",
        "        if self.parent[i] != i:\n",
        "            self.parent[i] = self.find(self.parent[i])\n",
        "        return self.parent[i]\n",
        "\n",
        "    def union(self, x, y):\n",
        "        s1 = self.find(x)\n",
        "        s2 = self.find(y)\n",
        "        if s1 != s2:\n",
        "            if self.rank[s1] < self.rank[s2]:\n",
        "                self.parent[s1] = s2\n",
        "            elif self.rank[s1] > self.rank[s2]:\n",
        "                self.parent[s2] = s1\n",
        "            else:\n",
        "                self.parent[s2] = s1\n",
        "                self.rank[s1] += 1\n",
        "\n",
        "def comparator(a, b):\n",
        "    return a[2] - b[2]\n",
        "\n",
        "def kruskals_mst(V, edges):\n",
        "    edges = sorted(edges, key=cmp_to_key(comparator))  # Sort edges by weight\n",
        "    dsu = DSU(V)\n",
        "    mst_edges = []\n",
        "    total_cost = 0\n",
        "\n",
        "    for u, v, w in edges:\n",
        "        if dsu.find(u) != dsu.find(v):  # Ensure no cycle is formed\n",
        "            dsu.union(u, v)\n",
        "            mst_edges.append((u, v, w))\n",
        "            total_cost += w\n",
        "            if len(mst_edges) == V - 1:\n",
        "                break\n",
        "\n",
        "    # Display MST edges and total weight\n",
        "    print(\"Edges in the Minimum Spanning Tree with directions:\")\n",
        "    for u, v, w in mst_edges:\n",
        "        print(f\"{u} -> {v} with weight {w}\")\n",
        "    print(f\"Total Weight of MST: {total_cost}\")\n",
        "\n",
        "    return mst_edges, total_cost\n",
        "\n",
        "if __name__ == '__main__':\n",
        "    edges = [[0, 1, 10], [1, 3, 15], [2, 3, 4], [2, 0, 6], [0, 3, 5]]\n",
        "    kruskals_mst(4, edges)\n"
      ],
      "metadata": {
        "colab": {
          "base_uri": "https://localhost:8080/"
        },
        "id": "CFXkKM2Baob8",
        "outputId": "e78c3876-88e5-44ee-b618-4a161c46b83c"
      },
      "execution_count": null,
      "outputs": [
        {
          "output_type": "stream",
          "name": "stdout",
          "text": [
            "Edges in the Minimum Spanning Tree with directions:\n",
            "2 -> 3 with weight 4\n",
            "0 -> 3 with weight 5\n",
            "0 -> 1 with weight 10\n",
            "Total Weight of MST: 19\n"
          ]
        }
      ]
    },
    {
      "cell_type": "markdown",
      "source": [
        "NETWORKFLOW Algorithm"
      ],
      "metadata": {
        "id": "96NrMp_8Uih-"
      }
    },
    {
      "cell_type": "code",
      "source": [
        "class Graph:\n",
        "    def __init__(self, size):\n",
        "        self.adj_matrix = [[0] * size for _ in range(size)]\n",
        "        self.size = size\n",
        "        self.vertex_data = [''] * size\n",
        "\n",
        "    def add_edge(self, u, v, c):\n",
        "        self.adj_matrix[u][v] = c\n",
        "\n",
        "    def add_vertex_data(self, vertex, data):\n",
        "        if 0 <= vertex < self.size:\n",
        "            self.vertex_data[vertex] = data\n",
        "\n",
        "    def dfs(self, s, t, visited=None, path=None):\n",
        "        if visited is None:\n",
        "            visited = [False] * self.size\n",
        "        if path is None:\n",
        "            path = []\n",
        "\n",
        "        visited[s] = True\n",
        "        path.append(s)\n",
        "\n",
        "        if s == t:\n",
        "            return path\n",
        "\n",
        "        for ind, val in enumerate(self.adj_matrix[s]):\n",
        "            if not visited[ind] and val > 0:\n",
        "                result_path = self.dfs(ind, t, visited, path.copy())\n",
        "                if result_path:\n",
        "                    return result_path\n",
        "\n",
        "        return None\n",
        "\n",
        "    def fordFulkerson(self, source, sink):\n",
        "        max_flow = 0\n",
        "\n",
        "        path = self.dfs(source, sink)\n",
        "        while path:\n",
        "            path_flow = float(\"Inf\")\n",
        "            for i in range(len(path) - 1):\n",
        "                u, v = path[i], path[i + 1]\n",
        "                path_flow = min(path_flow, self.adj_matrix[u][v])\n",
        "\n",
        "            for i in range(len(path) - 1):\n",
        "                u, v = path[i], path[i + 1]\n",
        "                self.adj_matrix[u][v] -= path_flow\n",
        "                self.adj_matrix[v][u] += path_flow\n",
        "\n",
        "            max_flow += path_flow\n",
        "\n",
        "            path_names = [self.vertex_data[node] for node in path]\n",
        "            print(\"Path:\", \" -> \".join(path_names), \", Flow:\", path_flow)\n",
        "\n",
        "            path = self.dfs(source, sink)\n",
        "\n",
        "        return max_flow\n",
        "\n",
        "g = Graph(6)\n",
        "vertex_names = ['s', 'v1', 'v2', 'v3', 'v4', 't']\n",
        "for i, name in enumerate(vertex_names):\n",
        "    g.add_vertex_data(i, name)\n",
        "\n",
        "g.add_edge(0, 1, 3)  # s  -> v1, cap: 3\n",
        "g.add_edge(0, 2, 7)  # s  -> v2, cap: 7\n",
        "g.add_edge(1, 3, 3)  # v1 -> v3, cap: 3\n",
        "g.add_edge(1, 4, 4)  # v1 -> v4, cap: 4\n",
        "g.add_edge(2, 1, 5)  # v2 -> v1, cap: 5\n",
        "g.add_edge(2, 4, 3)  # v2 -> v4, cap: 3\n",
        "g.add_edge(3, 4, 3)  # v3 -> v4, cap: 3\n",
        "g.add_edge(3, 5, 2)  # v3 -> t,  cap: 2\n",
        "g.add_edge(4, 5, 6)  # v4 -> t,  cap: 6\n",
        "\n",
        "source = 0; sink = 5\n",
        "\n",
        "print(\"The maximum possible flow is %d \" % g.fordFulkerson(source, sink))"
      ],
      "metadata": {
        "colab": {
          "base_uri": "https://localhost:8080/"
        },
        "id": "z9-GKCVKUq_S",
        "outputId": "08a410b0-87c7-4a11-bb2c-53a532c909df"
      },
      "execution_count": null,
      "outputs": [
        {
          "output_type": "stream",
          "name": "stdout",
          "text": [
            "Path: s -> v1 -> v3 -> v4 -> t , Flow: 3\n",
            "Path: s -> v2 -> v1 -> v4 -> v3 -> t , Flow: 2\n",
            "Path: s -> v2 -> v1 -> v4 -> t , Flow: 2\n",
            "Path: s -> v2 -> v4 -> t , Flow: 1\n",
            "The maximum possible flow is 8 \n"
          ]
        }
      ]
    }
  ]
}